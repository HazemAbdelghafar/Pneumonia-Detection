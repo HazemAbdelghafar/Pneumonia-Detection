{
 "cells": [
  {
   "cell_type": "markdown",
   "metadata": {},
   "source": [
    "# Data Augmentation Notebook"
   ]
  },
  {
   "cell_type": "markdown",
   "metadata": {},
   "source": [
    "## Import Necessary Libraries"
   ]
  },
  {
   "cell_type": "code",
   "execution_count": 2,
   "metadata": {},
   "outputs": [],
   "source": [
    "import os\n",
    "import chime \n",
    "import cv2 as cv\n",
    "import numpy as np\n",
    "from keras.preprocessing.image import img_to_array\n",
    "from keras.preprocessing.image import ImageDataGenerator"
   ]
  },
  {
   "cell_type": "code",
   "execution_count": 4,
   "metadata": {},
   "outputs": [],
   "source": [
    "chime.theme('zelda')\n",
    "chime.notify_exceptions()"
   ]
  },
  {
   "cell_type": "markdown",
   "metadata": {},
   "source": [
    "## Initializing dataset paths"
   ]
  },
  {
   "cell_type": "code",
   "execution_count": null,
   "metadata": {},
   "outputs": [],
   "source": [
    "# Define the path to the train directory\n",
    "train_normal_path = os.path.join(os.getcwd(), 'input\\\\train\\\\NORMAL')\n",
    "\n",
    "train_path = os.path.join(os.getcwd(), 'input\\\\train')\n",
    "\n",
    "test_path = os.path.join(os.getcwd(), 'input\\\\test')\n",
    "\n",
    "val_path = os.path.join(os.getcwd(), 'input\\\\val')\n",
    "\n",
    "paths = [train_path, test_path, val_path]\n",
    "#Initialize a directory to store the augmented images\n",
    "os.mkdir(os.path.join(os.getcwd(), 'input\\\\train\\\\Normal augmented'))\n",
    "\n",
    "# Define the path to the augmented images directory\n",
    "train_path_augmented = os.path.join(os.getcwd(), 'input\\\\train\\\\Normal augmented')"
   ]
  },
  {
   "cell_type": "markdown",
   "metadata": {},
   "source": [
    "## Image data generator"
   ]
  },
  {
   "cell_type": "markdown",
   "metadata": {},
   "source": [
    "### Image data generator initialization"
   ]
  },
  {
   "cell_type": "code",
   "execution_count": 3,
   "metadata": {},
   "outputs": [],
   "source": [
    "# Desired Number of images to generate\n",
    "num_images = 2650 \n",
    "\n",
    "# Define the image data generator\n",
    "aug = ImageDataGenerator(rotation_range=10, width_shift_range=0.1, height_shift_range=0.1, shear_range=0.15,\n",
    "                         zoom_range=0.05, fill_mode='nearest')"
   ]
  },
  {
   "cell_type": "markdown",
   "metadata": {},
   "source": [
    "### Image data generator with augmentation"
   ]
  },
  {
   "cell_type": "code",
   "execution_count": 8,
   "metadata": {},
   "outputs": [
    {
     "name": "stdout",
     "output_type": "stream",
     "text": [
      "Augmentation complete!\n"
     ]
    }
   ],
   "source": [
    "# loop over the image paths in the train directory\n",
    "for imagePath in os.listdir(train_normal_path):\n",
    "    if(num_images == 0):\n",
    "        break\n",
    "    num_images -= 1\n",
    "    \n",
    "    # construct the full image path\n",
    "    image_path = os.path.join(train_normal_path, imagePath)\n",
    "    \n",
    "    # load the image and convert it to an array\n",
    "    image = cv.imread(image_path)\n",
    "    image = img_to_array(image)\n",
    "    image = np.expand_dims(image, axis=0)\n",
    "    \n",
    "    # construct the actual image generator\n",
    "    image_gen = aug.flow(image, batch_size=1, save_to_dir=train_path_augmented, save_prefix='aug', save_format='jpeg')\n",
    "    \n",
    "    # loop over the number of images to generate\n",
    "    image_gen.next()\n",
    "        \n",
    "chime.success()\n",
    "print('Augmentation complete!')"
   ]
  },
  {
   "cell_type": "code",
   "execution_count": 6,
   "metadata": {},
   "outputs": [],
   "source": [
    "# move the images from the augmented folder to the train folder\n",
    "for image in os.listdir(train_path_augmented):\n",
    "    os.rename(os.path.join(train_path_augmented, image), os.path.join(train_normal_path, image))\n",
    "    \n",
    "# delete the augmented folder\n",
    "os.rmdir(train_path_augmented)"
   ]
  },
  {
   "cell_type": "code",
   "execution_count": 7,
   "metadata": {},
   "outputs": [],
   "source": [
    "# Change the name of the images in the dataset to include the class name and a number\n",
    "for path in paths:\n",
    "    for direc in os.listdir(path):\n",
    "        i = 0\n",
    "        for image in os.listdir(os.path.join(path, direc)):\n",
    "            new_name = os.path.join(os.path.join(path, direc), direc +'_' + str(i) + '.jpeg')\n",
    "            if not os.path.exists(new_name):\n",
    "                os.rename(os.path.join(os.path.join(path, direc), image), new_name)\n",
    "            i+=1"
   ]
  }
 ],
 "metadata": {
  "kernelspec": {
   "display_name": "Python 3",
   "language": "python",
   "name": "python3"
  },
  "language_info": {
   "codemirror_mode": {
    "name": "ipython",
    "version": 3
   },
   "file_extension": ".py",
   "mimetype": "text/x-python",
   "name": "python",
   "nbconvert_exporter": "python",
   "pygments_lexer": "ipython3",
   "version": "3.11.4"
  }
 },
 "nbformat": 4,
 "nbformat_minor": 2
}
